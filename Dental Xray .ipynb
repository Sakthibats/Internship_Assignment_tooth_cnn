{
 "cells": [
  {
   "cell_type": "markdown",
   "metadata": {},
   "source": [
    "# Image Classification of Dental Xray by @Sakthi\n",
    "### Steps\n",
    "1. Import Packages\n",
    "2. Load Data\n",
    "3. Build Model\n",
    "4. Test Model"
   ]
  },
  {
   "cell_type": "markdown",
   "metadata": {},
   "source": [
    "# Import Packages\n",
    "#### Importing relevant packages and identifying the necessary folders on computer"
   ]
  },
  {
   "cell_type": "code",
   "execution_count": 1,
   "metadata": {},
   "outputs": [],
   "source": [
    "import numpy as np\n",
    "import matplotlib.pyplot as plt\n",
    "import os\n",
    "import cv2\n",
    "import random\n",
    "import tensorflow as tf\n",
    "from tensorflow.keras.models import Sequential\n",
    "from tensorflow.keras.layers import Dense, Dropout, Activation, Flatten, Conv2D, MaxPooling2D\n",
    "from tensorflow.keras.callbacks import TensorBoard\n",
    "import time\n",
    "import pandas as pd\n",
    "\n",
    "Datadir = r\"D:\\Jupy\\xrays database\"\n",
    "Categories = [\"1 root\", \"2 or more roots\"]"
   ]
  },
  {
   "cell_type": "markdown",
   "metadata": {},
   "source": [
    "# Load Data\n",
    "#### Resize them to the same shape and size in the event they are not all in the same shape or size\n",
    "#### Prepare Training dataset"
   ]
  },
  {
   "cell_type": "code",
   "execution_count": 2,
   "metadata": {},
   "outputs": [],
   "source": [
    "training_data = []\n",
    "IMG_SIZE = (130, 230)\n",
    "\n",
    "def create_training_data():\n",
    "    for category in Categories:\n",
    "        path = os.path.join(Datadir, category) #path to images folder\n",
    "        class_num = Categories.index(category)\n",
    "        for img in os.listdir(path):#path to images\n",
    "            try:\n",
    "                img_array = cv2.imread(os.path.join(path, img), cv2.IMREAD_GRAYSCALE)\n",
    "                new_array = cv2.resize(img_array, IMG_SIZE)\n",
    "                training_data.append([new_array, class_num])\n",
    "            except Exception as e:\n",
    "                pass\n",
    "\n",
    "create_training_data()"
   ]
  },
  {
   "cell_type": "code",
   "execution_count": 3,
   "metadata": {},
   "outputs": [],
   "source": [
    "random.shuffle(training_data) #shuffles image dataset"
   ]
  },
  {
   "cell_type": "code",
   "execution_count": 4,
   "metadata": {},
   "outputs": [],
   "source": [
    "X= [] #Array for images that will be used to train\n",
    "y= [] #Array for category values that will be used to train"
   ]
  },
  {
   "cell_type": "code",
   "execution_count": 5,
   "metadata": {},
   "outputs": [],
   "source": [
    "for features, label in training_data:\n",
    "    X.append(features)\n",
    "    y.append(label)\n",
    "X = np.array(X).reshape(-1, 130, 230, 1) #Array of Images needed to train model ready\n",
    "y = np.array(y) #Array of category values to use to train ready\n",
    "X = X/255 #Normalise"
   ]
  },
  {
   "cell_type": "markdown",
   "metadata": {},
   "source": [
    "## Build Model\n",
    "#### The following combinations of layers yield the best accuracy to loss ratio as analysed on Tensorboard"
   ]
  },
  {
   "cell_type": "code",
   "execution_count": 6,
   "metadata": {},
   "outputs": [
    {
     "name": "stdout",
     "output_type": "stream",
     "text": [
      "Epoch 1/10\n",
      " 1/35 [..............................] - ETA: 0s - loss: 0.6769 - accuracy: 0.6667WARNING:tensorflow:From C:\\Users\\Sakthivel\\anaconda3\\lib\\site-packages\\tensorflow\\python\\ops\\summary_ops_v2.py:1277: stop (from tensorflow.python.eager.profiler) is deprecated and will be removed after 2020-07-01.\n",
      "Instructions for updating:\n",
      "use `tf.profiler.experimental.stop` instead.\n",
      "35/35 [==============================] - 33s 955ms/step - loss: 7.1995 - accuracy: 0.4660 - val_loss: 0.5883 - val_accuracy: 0.5833\n",
      "Epoch 2/10\n",
      "35/35 [==============================] - 31s 885ms/step - loss: 0.7026 - accuracy: 0.5825 - val_loss: 0.5114 - val_accuracy: 0.8333\n",
      "Epoch 3/10\n",
      "35/35 [==============================] - 30s 857ms/step - loss: 0.4065 - accuracy: 0.8447 - val_loss: 0.5793 - val_accuracy: 0.6667\n",
      "Epoch 4/10\n",
      "35/35 [==============================] - 30s 867ms/step - loss: 0.3438 - accuracy: 0.8447 - val_loss: 0.3078 - val_accuracy: 0.9167\n",
      "Epoch 5/10\n",
      "35/35 [==============================] - 30s 851ms/step - loss: 0.2994 - accuracy: 0.8544 - val_loss: 0.3555 - val_accuracy: 0.8333\n",
      "Epoch 6/10\n",
      "35/35 [==============================] - 30s 866ms/step - loss: 0.3208 - accuracy: 0.8738 - val_loss: 0.2770 - val_accuracy: 0.9167\n",
      "Epoch 7/10\n",
      "35/35 [==============================] - 29s 832ms/step - loss: 0.1682 - accuracy: 0.9417 - val_loss: 0.4822 - val_accuracy: 0.8333\n",
      "Epoch 8/10\n",
      "35/35 [==============================] - 31s 887ms/step - loss: 0.1218 - accuracy: 0.9709 - val_loss: 1.2963 - val_accuracy: 0.6667\n",
      "Epoch 9/10\n",
      "35/35 [==============================] - 32s 914ms/step - loss: 0.4197 - accuracy: 0.8252 - val_loss: 0.4511 - val_accuracy: 0.9167\n",
      "Epoch 10/10\n",
      "35/35 [==============================] - 33s 948ms/step - loss: 0.2923 - accuracy: 0.8641 - val_loss: 0.7218 - val_accuracy: 0.8333\n"
     ]
    }
   ],
   "source": [
    "dense_layers = [1]\n",
    "layers_sizes = [128]\n",
    "convo_layers = [1]\n",
    "\n",
    "for dense_layer in dense_layers:\n",
    "    for layers_size in layers_sizes:\n",
    "        for convo_layer in convo_layers:\n",
    "            Name = \"{}-convo-{}-nodes-{}-dense-{}\".format(convo_layer,layers_size, dense_layer, int(time.time()))\n",
    "            tensorboard = TensorBoard(log_dir = 'logs/{}'.format(Name))\n",
    "            model = Sequential()\n",
    "            model.add(Conv2D(layers_size, (3, 3), input_shape = X.shape[1:]))\n",
    "            model.add(Activation(\"relu\"))\n",
    "            model.add(MaxPooling2D(pool_size = (2,2)))\n",
    "            \n",
    "            for l in range(convo_layer-1):#number of Convolutional layers\n",
    "                \n",
    "                model.add(Conv2D(layers_size, (3, 3)))\n",
    "                model.add(Activation(\"relu\"))\n",
    "                model.add(MaxPooling2D(pool_size = (2,2)))\n",
    "\n",
    "            model.add(Flatten())\n",
    "            \n",
    "            for i in range(dense_layer):#number of Dense layers \n",
    "                model.add(Dense(layers_size))\n",
    "                model.add(Activation(\"relu\"))\n",
    "                model.add(Dropout(0.2))\n",
    "\n",
    "            model.add(Dense(1))\n",
    "            model.add(Activation('sigmoid'))\n",
    "\n",
    "            model.compile(loss = \"binary_crossentropy\", \n",
    "                         optimizer = \"adam\", \n",
    "                         metrics = ['accuracy'])\n",
    "            \n",
    "            model.fit(X,y, batch_size=3,epochs = 10, validation_split=0.1, callbacks = [tensorboard])"
   ]
  },
  {
   "cell_type": "markdown",
   "metadata": {},
   "source": [
    "### Save the Model for Future Use"
   ]
  },
  {
   "cell_type": "code",
   "execution_count": 7,
   "metadata": {},
   "outputs": [
    {
     "name": "stdout",
     "output_type": "stream",
     "text": [
      "WARNING:tensorflow:From C:\\Users\\Sakthivel\\anaconda3\\lib\\site-packages\\tensorflow\\python\\training\\tracking\\tracking.py:111: Model.state_updates (from tensorflow.python.keras.engine.training) is deprecated and will be removed in a future version.\n",
      "Instructions for updating:\n",
      "This property should not be used in TensorFlow 2.0, as updates are applied automatically.\n",
      "WARNING:tensorflow:From C:\\Users\\Sakthivel\\anaconda3\\lib\\site-packages\\tensorflow\\python\\training\\tracking\\tracking.py:111: Layer.updates (from tensorflow.python.keras.engine.base_layer) is deprecated and will be removed in a future version.\n",
      "Instructions for updating:\n",
      "This property should not be used in TensorFlow 2.0, as updates are applied automatically.\n",
      "INFO:tensorflow:Assets written to: tooth.cnn.model\\assets\n"
     ]
    }
   ],
   "source": [
    "model.save('tooth.cnn.model')"
   ]
  },
  {
   "cell_type": "markdown",
   "metadata": {},
   "source": [
    "# Test (For future use)\n",
    "### Create a function to prepare the image for our model and create a method to accept input"
   ]
  },
  {
   "cell_type": "code",
   "execution_count": null,
   "metadata": {},
   "outputs": [],
   "source": [
    "model = tf.keras.models.load_model(\"tooth.cnn.model\")\n",
    "\n",
    "#For future folder that will be shared\n",
    "Test_dir = r\"D:\\Jupy\\xrays database\\tester\"\n",
    "\n",
    "testing_imgdata = []#Array for images to be predicted\n",
    "testing_catdata = []#Array for accurate category values\n",
    "\n",
    "def test_data():\n",
    "    for category in Categories:\n",
    "        path = os.path.join(Test_dir, category) #path to images\n",
    "        class_num = Categories.index(category)\n",
    "        for img in os.listdir(path):\n",
    "            try:\n",
    "                img_array = cv2.imread(os.path.join(path, img), cv2.IMREAD_GRAYSCALE)\n",
    "                new_array = cv2.resize(img_array, IMG_SIZE)\n",
    "                testing_imgdata.append(new_array)\n",
    "                testing_catdata.append(class_num)\n",
    "            except Exception as e:\n",
    "                pass\n",
    "\n",
    "test_data()\n",
    "\n",
    "testing_imgdata = np.array(testing_imgdata).reshape(-1, 130, 230, 1)/255.0 #Array of images normalised and ready to be predicted\n",
    "testing_catdata = np.array(testing_catdata) #Array of accurate category values"
   ]
  },
  {
   "cell_type": "code",
   "execution_count": null,
   "metadata": {},
   "outputs": [],
   "source": [
    "prediction= model.predict([testing_imgdata])\n",
    "predicted_val = [int(round(p[0])) for p in prediction]"
   ]
  },
  {
   "cell_type": "code",
   "execution_count": null,
   "metadata": {},
   "outputs": [],
   "source": [
    "from sklearn.metrics import confusion_matrix, classification_report\n",
    "\n",
    "print(\"Confusion Matrix:\\n \", confusion_matrix(testing_catdata, predicted_val))\n",
    "print(\"Classification report:\\n \", classification_report(testing_catdata, predicted_val))"
   ]
  },
  {
   "cell_type": "code",
   "execution_count": null,
   "metadata": {},
   "outputs": [],
   "source": []
  }
 ],
 "metadata": {
  "kernelspec": {
   "display_name": "Python 3",
   "language": "python",
   "name": "python3"
  },
  "language_info": {
   "codemirror_mode": {
    "name": "ipython",
    "version": 3
   },
   "file_extension": ".py",
   "mimetype": "text/x-python",
   "name": "python",
   "nbconvert_exporter": "python",
   "pygments_lexer": "ipython3",
   "version": "3.8.3"
  }
 },
 "nbformat": 4,
 "nbformat_minor": 4
}
